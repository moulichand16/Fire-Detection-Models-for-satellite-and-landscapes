{
  "cells": [
    {
      "cell_type": "code",
      "execution_count": null,
      "metadata": {
        "id": "AhGVl047QP0M"
      },
      "outputs": [],
      "source": [
        "import tensorflow as tf\n",
        "import matplotlib.pyplot as plt\n",
        "import cv2\n",
        "import os\n",
        "import numpy as np\n",
        "from tensorflow.keras.preprocessing.image import ImageDataGenerator\n",
        "from tensorflow.keras.preprocessing.image import load_img,img_to_array\n",
        "from tensorflow.keras.preprocessing import image\n",
        "from tensorflow.keras.optimizers import RMSprop"
      ]
    },
    {
      "cell_type": "code",
      "source": [],
      "metadata": {
        "id": "dzax5630CSrH"
      },
      "execution_count": null,
      "outputs": []
    },
    {
      "cell_type": "code",
      "execution_count": null,
      "metadata": {
        "id": "7bTn-gVeqG5k"
      },
      "outputs": [],
      "source": [
        "import cv2 as cv"
      ]
    },
    {
      "cell_type": "code",
      "execution_count": null,
      "metadata": {
        "colab": {
          "base_uri": "https://localhost:8080/"
        },
        "id": "e8cG6RhfZFAW",
        "outputId": "e63f413e-924f-40bc-ff6e-e2b41fbeab39"
      },
      "outputs": [
        {
          "output_type": "stream",
          "name": "stdout",
          "text": [
            "Mounted at /content/drive\n"
          ]
        }
      ],
      "source": [
        "from google.colab import drive\n",
        "drive.mount('/content/drive')\n",
        "\n"
      ]
    },
    {
      "cell_type": "code",
      "execution_count": null,
      "metadata": {
        "id": "uajmNFUDZEdp"
      },
      "outputs": [],
      "source": [
        "path='drive/My Drive/Forest Fire Dataset/Training/'\n"
      ]
    },
    {
      "cell_type": "code",
      "execution_count": null,
      "metadata": {
        "id": "KewQ6b0ncFdj"
      },
      "outputs": [],
      "source": [
        "batch_siz=32\n",
        "image_height=128\n",
        "img_width=128\n"
      ]
    },
    {
      "cell_type": "code",
      "execution_count": null,
      "metadata": {
        "colab": {
          "base_uri": "https://localhost:8080/"
        },
        "id": "WENxUzNLcjYS",
        "outputId": "f989077d-dab7-4dc4-8a1a-19071523f2f0"
      },
      "outputs": [
        {
          "output_type": "stream",
          "name": "stdout",
          "text": [
            "Found 6484 files belonging to 2 classes.\n",
            "Using 5188 files for training.\n"
          ]
        }
      ],
      "source": [
        "train_ds=tf.keras.preprocessing.image_dataset_from_directory(\n",
        "path,\n",
        "validation_split=0.2,\n",
        "    subset=\"training\",\n",
        "    seed=123,\n",
        "    image_size=(image_height,img_width),\n",
        "    batch_size=batch_siz\n",
        "\n",
        ")"
      ]
    },
    {
      "cell_type": "code",
      "execution_count": null,
      "metadata": {
        "colab": {
          "base_uri": "https://localhost:8080/"
        },
        "id": "hi9QSx5jcw9C",
        "outputId": "1025eb64-501b-4e2f-f6b2-9ab2c0a7459a"
      },
      "outputs": [
        {
          "output_type": "stream",
          "name": "stdout",
          "text": [
            "<_BatchDataset element_spec=(TensorSpec(shape=(None, 128, 128, 3), dtype=tf.float32, name=None), TensorSpec(shape=(None,), dtype=tf.int32, name=None))>\n",
            "['fire', 'nofire']\n"
          ]
        }
      ],
      "source": [
        "print(train_ds)\n",
        "print(train_ds.class_names)"
      ]
    },
    {
      "cell_type": "code",
      "execution_count": null,
      "metadata": {
        "colab": {
          "base_uri": "https://localhost:8080/"
        },
        "id": "DxNIEk_Jc931",
        "outputId": "496c7689-3788-4f38-e236-d9be41138e32"
      },
      "outputs": [
        {
          "output_type": "stream",
          "name": "stdout",
          "text": [
            "Found 6484 files belonging to 2 classes.\n",
            "Using 1296 files for validation.\n"
          ]
        }
      ],
      "source": [
        "val_ds=tf.keras.preprocessing.image_dataset_from_directory(\n",
        "path,\n",
        "validation_split=0.2,\n",
        "    subset=\"validation\",\n",
        "    seed=123,\n",
        "    image_size=(image_height,img_width),\n",
        "    batch_size=batch_siz\n",
        ")"
      ]
    },
    {
      "cell_type": "code",
      "execution_count": null,
      "metadata": {
        "id": "lWeIhzTQczLx"
      },
      "outputs": [],
      "source": [
        "AUTOTUNE=tf.data.AUTOTUNE\n",
        "train_ds=train_ds.cache().prefetch(buffer_size=AUTOTUNE)\n",
        "val_ds=val_ds.cache().prefetch(buffer_size=AUTOTUNE\n",
        ")"
      ]
    },
    {
      "cell_type": "code",
      "execution_count": null,
      "metadata": {
        "id": "-7gYCkV3dLg-"
      },
      "outputs": [],
      "source": [
        "num_classes=2\n",
        "model=tf.keras.models.Sequential([\n",
        "\n",
        "                                  tf.keras.layers.InputLayer(input_shape=(image_height,img_width,3)),\n",
        "                                  tf.keras.layers.experimental.preprocessing.Rescaling(1./255),\n",
        "\n",
        "                                  tf.keras.layers.Conv2D(16,3 ,activation='relu'),\n",
        "                                  tf.keras.layers.MaxPooling2D(),\n",
        "\n",
        "                                  tf.keras.layers.Conv2D(32,3,activation='relu'),\n",
        "                                  tf.keras.layers.MaxPooling2D(),\n",
        "\n",
        "                                  tf.keras.layers.Conv2D(64,3,activation='relu'),\n",
        "                                  tf.keras.layers.MaxPooling2D(),\n",
        "\n",
        "\n",
        "                                  tf.keras.layers.Flatten(),\n",
        "                                  tf.keras.layers.Dense(128,activation='relu'),\n",
        "                                  tf.keras.layers.Dropout(0.5),\n",
        "                                  tf.keras.layers.Dense(num_classes,activation='softmax')\n",
        "\n",
        "                                 ])"
      ]
    },
    {
      "cell_type": "code",
      "execution_count": null,
      "metadata": {
        "colab": {
          "base_uri": "https://localhost:8080/"
        },
        "id": "RmfluwzbdPHA",
        "outputId": "bc776b34-26bf-4b9c-a53c-ba9516f102c4"
      },
      "outputs": [
        {
          "output_type": "stream",
          "name": "stdout",
          "text": [
            "Epoch 1/30\n",
            "163/163 [==============================] - 4s 12ms/step - loss: 0.0095 - accuracy: 0.9973 - val_loss: 0.1766 - val_accuracy: 0.9730\n",
            "Epoch 2/30\n",
            "163/163 [==============================] - 2s 11ms/step - loss: 0.0094 - accuracy: 0.9975 - val_loss: 0.1807 - val_accuracy: 0.9784\n",
            "Epoch 3/30\n",
            "163/163 [==============================] - 2s 12ms/step - loss: 0.0104 - accuracy: 0.9969 - val_loss: 0.1214 - val_accuracy: 0.9776\n",
            "Epoch 4/30\n",
            "163/163 [==============================] - 2s 12ms/step - loss: 0.0099 - accuracy: 0.9967 - val_loss: 0.1207 - val_accuracy: 0.9776\n",
            "Epoch 5/30\n",
            "163/163 [==============================] - 2s 11ms/step - loss: 0.0105 - accuracy: 0.9967 - val_loss: 0.2044 - val_accuracy: 0.9715\n",
            "Epoch 6/30\n",
            "163/163 [==============================] - 2s 11ms/step - loss: 0.0078 - accuracy: 0.9983 - val_loss: 0.6192 - val_accuracy: 0.9514\n",
            "Epoch 7/30\n",
            "163/163 [==============================] - 2s 11ms/step - loss: 0.0332 - accuracy: 0.9913 - val_loss: 0.1268 - val_accuracy: 0.9761\n",
            "Epoch 8/30\n",
            "163/163 [==============================] - 2s 11ms/step - loss: 0.0037 - accuracy: 0.9988 - val_loss: 0.1247 - val_accuracy: 0.9784\n",
            "Epoch 9/30\n",
            "163/163 [==============================] - 2s 11ms/step - loss: 0.0019 - accuracy: 0.9998 - val_loss: 0.1436 - val_accuracy: 0.9753\n",
            "Epoch 10/30\n",
            "163/163 [==============================] - 2s 13ms/step - loss: 0.0093 - accuracy: 0.9963 - val_loss: 0.2164 - val_accuracy: 0.9637\n",
            "Epoch 11/30\n",
            "163/163 [==============================] - 2s 12ms/step - loss: 0.0203 - accuracy: 0.9942 - val_loss: 0.2500 - val_accuracy: 0.9653\n",
            "Epoch 12/30\n",
            "163/163 [==============================] - 2s 11ms/step - loss: 0.0095 - accuracy: 0.9973 - val_loss: 0.2076 - val_accuracy: 0.9776\n",
            "Epoch 13/30\n",
            "163/163 [==============================] - 2s 11ms/step - loss: 0.0014 - accuracy: 0.9996 - val_loss: 0.2514 - val_accuracy: 0.9753\n",
            "Epoch 14/30\n",
            "163/163 [==============================] - 2s 11ms/step - loss: 0.0032 - accuracy: 0.9990 - val_loss: 0.2618 - val_accuracy: 0.9745\n",
            "Epoch 15/30\n",
            "163/163 [==============================] - 2s 11ms/step - loss: 0.0132 - accuracy: 0.9971 - val_loss: 0.1357 - val_accuracy: 0.9769\n",
            "Epoch 16/30\n",
            "163/163 [==============================] - 2s 11ms/step - loss: 0.0039 - accuracy: 0.9987 - val_loss: 0.1788 - val_accuracy: 0.9784\n",
            "Epoch 17/30\n",
            "163/163 [==============================] - 2s 11ms/step - loss: 0.0024 - accuracy: 0.9988 - val_loss: 0.1856 - val_accuracy: 0.9784\n",
            "Epoch 18/30\n",
            "163/163 [==============================] - 2s 12ms/step - loss: 0.0020 - accuracy: 0.9994 - val_loss: 0.1718 - val_accuracy: 0.9776\n",
            "Epoch 19/30\n",
            "163/163 [==============================] - 2s 11ms/step - loss: 8.2011e-04 - accuracy: 1.0000 - val_loss: 0.2001 - val_accuracy: 0.9792\n",
            "Epoch 20/30\n",
            "163/163 [==============================] - 2s 11ms/step - loss: 0.0050 - accuracy: 0.9985 - val_loss: 0.2764 - val_accuracy: 0.9722\n",
            "Epoch 21/30\n",
            "163/163 [==============================] - 2s 11ms/step - loss: 0.0122 - accuracy: 0.9971 - val_loss: 0.2130 - val_accuracy: 0.9730\n",
            "Epoch 22/30\n",
            "163/163 [==============================] - 2s 11ms/step - loss: 0.0024 - accuracy: 0.9988 - val_loss: 0.2342 - val_accuracy: 0.9753\n",
            "Epoch 23/30\n",
            "163/163 [==============================] - 2s 11ms/step - loss: 0.0182 - accuracy: 0.9960 - val_loss: 0.1683 - val_accuracy: 0.9745\n",
            "Epoch 24/30\n",
            "163/163 [==============================] - 2s 12ms/step - loss: 0.0019 - accuracy: 0.9992 - val_loss: 0.1898 - val_accuracy: 0.9699\n",
            "Epoch 25/30\n",
            "163/163 [==============================] - 2s 13ms/step - loss: 0.0061 - accuracy: 0.9979 - val_loss: 0.1751 - val_accuracy: 0.9753\n",
            "Epoch 26/30\n",
            "163/163 [==============================] - 2s 11ms/step - loss: 0.0032 - accuracy: 0.9988 - val_loss: 0.1819 - val_accuracy: 0.9745\n",
            "Epoch 27/30\n",
            "163/163 [==============================] - 2s 11ms/step - loss: 0.0016 - accuracy: 0.9996 - val_loss: 0.2115 - val_accuracy: 0.9776\n",
            "Epoch 28/30\n",
            "163/163 [==============================] - 2s 11ms/step - loss: 5.7708e-04 - accuracy: 1.0000 - val_loss: 0.2144 - val_accuracy: 0.9784\n",
            "Epoch 29/30\n",
            "163/163 [==============================] - 2s 11ms/step - loss: 0.0033 - accuracy: 0.9987 - val_loss: 0.2414 - val_accuracy: 0.9722\n",
            "Epoch 30/30\n",
            "163/163 [==============================] - 2s 10ms/step - loss: 0.0214 - accuracy: 0.9940 - val_loss: 0.2108 - val_accuracy: 0.9699\n"
          ]
        }
      ],
      "source": [
        "model.compile(optimizer='adam',\n",
        "            #  loss='sparse_categorical_crossentropy',\n",
        "            loss='sparse_categorical_crossentropy',\n",
        "             metrics=['accuracy'])\n",
        "\n",
        "early_stop_back=tf.keras.callbacks.EarlyStopping(monitor='val_accuracy',min_delta=0.001,\n",
        "                                               patience=5)\n",
        "\n",
        "history=model.fit(train_ds,validation_data=val_ds,\n",
        "                 epochs=30\n",
        "                 )\n",
        "\n"
      ]
    },
    {
      "cell_type": "code",
      "execution_count": null,
      "metadata": {
        "id": "rpgtl30_2pL7"
      },
      "outputs": [],
      "source": [
        "#WEM"
      ]
    },
    {
      "cell_type": "code",
      "execution_count": null,
      "metadata": {
        "id": "9OGbZ-5WgoTN",
        "colab": {
          "base_uri": "https://localhost:8080/"
        },
        "outputId": "5974974a-9a4a-457a-be00-4edbe1ccc6d2"
      },
      "outputs": [
        {
          "output_type": "stream",
          "name": "stdout",
          "text": [
            "41/41 [==============================] - 0s 6ms/step - loss: 0.1522 - accuracy: 0.9769\n",
            "Accuracy 0.9768518805503845\n",
            "loss 0.15215598046779633\n"
          ]
        }
      ],
      "source": [
        "loss,acc=model.evaluate(val_ds,batch_size=batch_siz)\n",
        "print(\"Accuracy\",acc)\n",
        "print(\"loss\",loss)"
      ]
    },
    {
      "cell_type": "code",
      "execution_count": null,
      "metadata": {
        "id": "Vd0_9voTgw3e"
      },
      "outputs": [],
      "source": [
        "model.save(\"drive/My Drive/fire_model_final_forweb.h5\")\n"
      ]
    },
    {
      "cell_type": "code",
      "execution_count": null,
      "metadata": {
        "id": "7vXnY8H6hB1H"
      },
      "outputs": [],
      "source": [
        "def prediction(img):\n",
        "    class_names = ['fire', 'not fire']\n",
        "    my_image = load_img(img, target_size=(image_height, img_width))\n",
        "    my_image = img_to_array(my_image)\n",
        "    my_image = np.expand_dims(my_image, 0)\n",
        "    out = np.round(model.predict(my_image)[0], 2)\n",
        "    fig = plt.figure(figsize=(7, 4))\n",
        "    plt.barh(class_names, out, color='lightgray',edgecolor='red', linewidth=1,height=0.5)\n",
        "    for index, value in enumerate(out):\n",
        "        plt.text(value/2 + 0.1, index, f\"{100*value:.2f}%\", fontweight='bold')\n",
        "        plt.xticks([])\n",
        "        plt.yticks([0, 1], labels=class_names, fontweight='bold',fontsize=14)\n",
        "        fig.savefig('pred_img.png', bbox_inches='tight')\n",
        "    if out[0]>out[1]:\n",
        "      print(\"Fire detected\")\n",
        "    elif out[0]<out[1]:\n",
        "      print(\"No fire detected\")\n",
        "    return plt.show(),my_image\n"
      ]
    },
    {
      "cell_type": "code",
      "execution_count": null,
      "metadata": {
        "id": "G-e95rcthI2j",
        "colab": {
          "base_uri": "https://localhost:8080/",
          "height": 1000
        },
        "outputId": "cb80e86d-db57-4c72-9d71-8a554a8cf697"
      },
      "outputs": [
        {
          "output_type": "stream",
          "name": "stdout",
          "text": [
            "1/1 [==============================] - 0s 19ms/step\n",
            "Fire detected\n"
          ]
        },
        {
          "output_type": "display_data",
          "data": {
            "text/plain": [
              "<Figure size 700x400 with 1 Axes>"
            ],
            "image/png": "[encoded data removed]"
          },
          "metadata": {}
        },
        {
          "output_type": "execute_result",
          "data": {
            "text/plain": [
              "(None,\n",
              " array([[[[145.,  34.,  27.],\n",
              "          [147.,  34.,  28.],\n",
              "          [148.,  35.,  27.],\n",
              "          ...,\n",
              "          [105.,  15.,  27.],\n",
              "          [109.,  19.,  29.],\n",
              "          [107.,  17.,  27.]],\n",
              " \n",
              "         [[140.,  31.,  26.],\n",
              "          [143.,  34.,  29.],\n",
              "          [146.,  35.,  28.],\n",
              "          ...,\n",
              "          [108.,  18.,  28.],\n",
              "          [103.,  15.,  27.],\n",
              "          [104.,  18.,  31.]],\n",
              " \n",
              "         [[138.,  30.,  27.],\n",
              "          [141.,  33.,  30.],\n",
              "          [143.,  34.,  29.],\n",
              "          ...,\n",
              "          [111.,  19.,  30.],\n",
              "          [102.,  16.,  29.],\n",
              "          [102.,  18.,  33.]],\n",
              " \n",
              "         ...,\n",
              " \n",
              "         [[  0.,   0.,   0.],\n",
              "          [  0.,   0.,   0.],\n",
              "          [  0.,   0.,   0.],\n",
              "          ...,\n",
              "          [  0.,   0.,   0.],\n",
              "          [  0.,   0.,   0.],\n",
              "          [  0.,   0.,   0.]],\n",
              " \n",
              "         [[  0.,   0.,   0.],\n",
              "          [  0.,   0.,   0.],\n",
              "          [  0.,   0.,   0.],\n",
              "          ...,\n",
              "          [  0.,   0.,   0.],\n",
              "          [  0.,   0.,   0.],\n",
              "          [  0.,   0.,   0.]],\n",
              " \n",
              "         [[  0.,   0.,   0.],\n",
              "          [  0.,   0.,   0.],\n",
              "          [  0.,   0.,   0.],\n",
              "          ...,\n",
              "          [  0.,   0.,   0.],\n",
              "          [  0.,   0.,   0.],\n",
              "          [  0.,   0.,   0.]]]], dtype=float32))"
            ]
          },
          "metadata": {},
          "execution_count": 23
        }
      ],
      "source": [
        "prediction(\"/content/98.jpg\")\n",
        "\n"
      ]
    },
    {
      "cell_type": "code",
      "source": [
        "from google.colab import drive\n",
        "drive.mount('/content/drive')"
      ],
      "metadata": {
        "id": "nvVZ-shlXDky"
      },
      "execution_count": null,
      "outputs": []
    },
    {
      "cell_type": "code",
      "execution_count": null,
      "metadata": {
        "id": "ku0Sod74gOcJ",
        "colab": {
          "base_uri": "https://localhost:8080/",
          "height": 235
        },
        "outputId": "4258f471-cff8-4dc5-f6d6-707c86c38e48"
      },
      "outputs": [
        {
          "output_type": "error",
          "ename": "NameError",
          "evalue": "ignored",
          "traceback": [
            "\u001b[0;31m---------------------------------------------------------------------------\u001b[0m",
            "\u001b[0;31mNameError\u001b[0m                                 Traceback (most recent call last)",
            "\u001b[0;32m<ipython-input-25-68cb91b6492a>\u001b[0m in \u001b[0;36m<cell line: 11>\u001b[0;34m()\u001b[0m\n\u001b[1;32m      9\u001b[0m \u001b[0;34m\u001b[0m\u001b[0m\n\u001b[1;32m     10\u001b[0m \u001b[0moutput\u001b[0m\u001b[0;34m=\u001b[0m\u001b[0mcv2\u001b[0m\u001b[0;34m.\u001b[0m\u001b[0mbitwise_and\u001b[0m\u001b[0;34m(\u001b[0m\u001b[0mtsend\u001b[0m\u001b[0;34m,\u001b[0m\u001b[0mhsv\u001b[0m\u001b[0;34m,\u001b[0m\u001b[0mmask\u001b[0m\u001b[0;34m=\u001b[0m\u001b[0mmask\u001b[0m\u001b[0;34m)\u001b[0m\u001b[0;34m\u001b[0m\u001b[0;34m\u001b[0m\u001b[0m\n\u001b[0;32m---> 11\u001b[0;31m \u001b[0mmask_\u001b[0m \u001b[0;34m=\u001b[0m \u001b[0mImage\u001b[0m\u001b[0;34m.\u001b[0m\u001b[0mfromarray\u001b[0m\u001b[0;34m(\u001b[0m\u001b[0moutput\u001b[0m\u001b[0;34m)\u001b[0m\u001b[0;34m\u001b[0m\u001b[0;34m\u001b[0m\u001b[0m\n\u001b[0m\u001b[1;32m     12\u001b[0m \u001b[0mbbox\u001b[0m\u001b[0;34m=\u001b[0m\u001b[0mmask_\u001b[0m\u001b[0;34m.\u001b[0m\u001b[0mgetbbox\u001b[0m\u001b[0;34m(\u001b[0m\u001b[0;34m)\u001b[0m\u001b[0;34m\u001b[0m\u001b[0;34m\u001b[0m\u001b[0m\n\u001b[1;32m     13\u001b[0m \u001b[0mplt\u001b[0m\u001b[0;34m.\u001b[0m\u001b[0mimshow\u001b[0m\u001b[0;34m(\u001b[0m\u001b[0mtsend\u001b[0m\u001b[0;34m)\u001b[0m\u001b[0;34m\u001b[0m\u001b[0;34m\u001b[0m\u001b[0m\n",
            "\u001b[0;31mNameError\u001b[0m: name 'Image' is not defined"
          ]
        }
      ],
      "source": [
        "\n",
        "tsend=cv2.imread(\"/content/98.jpg\")\n",
        "blur=cv2.GaussianBlur(tsend,(15,15),0)\n",
        "hsv=cv2.cvtColor(blur,cv2.COLOR_BGR2HSV)\n",
        "lower=[18,50,50]\n",
        "upper=[35,255,255]\n",
        "lower1=np.array(lower,dtype='uint8')\n",
        "upper1=np.array(upper,dtype='uint8')\n",
        "mask=cv2.inRange(hsv,lower1,upper1)\n",
        "\n",
        "output=cv2.bitwise_and(tsend,hsv,mask=mask)\n",
        "mask_ = Image.fromarray(output)\n",
        "bbox=mask_.getbbox()\n",
        "plt.imshow(tsend)\n",
        "\n",
        "print(bbox)\n",
        ""
      ]
    },
    {
      "cell_type": "code",
      "execution_count": null,
      "metadata": {
        "id": "pgafS7y3gUqs"
      },
      "outputs": [],
      "source": [
        "  plt.imshow(blur)"
      ]
    },
    {
      "cell_type": "code",
      "execution_count": null,
      "metadata": {
        "id": "lEuqp5yLgVj3"
      },
      "outputs": [],
      "source": [
        "th=127\n",
        "max_v=255\n",
        "ret, o1 = cv2.threshold(output,th,max_v,cv2.THRESH_BINARY)\n"
      ]
    }
  ],
  "metadata": {
    "accelerator": "GPU",
    "colab": {
      "provenance": []
    },
    "gpuClass": "standard",
    "kernelspec": {
      "display_name": "Python 3",
      "name": "python3"
    },
    "language_info": {
      "name": "python"
    }
  },
  "nbformat": 4,
  "nbformat_minor": 0
}