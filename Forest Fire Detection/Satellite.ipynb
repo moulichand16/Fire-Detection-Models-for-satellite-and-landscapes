{
  "cells": [
    {
      "cell_type": "code",
      "execution_count": null,
      "metadata": {
        "id": "4eb774cd"
      },
      "outputs": [],
      "source": [
        "import tensorflow as tf\n",
        "import matplotlib.pyplot as plt\n",
        "import cv2\n",
        "import os\n",
        "import numpy as np\n",
        "from tensorflow.keras.preprocessing.image import ImageDataGenerator\n",
        "from tensorflow.keras.preprocessing.image import load_img,img_to_array\n",
        "from tensorflow.keras.preprocessing import image\n",
        "from tensorflow.keras.optimizers import RMSprop"
      ],
      "id": "4eb774cd"
    },
    {
      "cell_type": "code",
      "execution_count": null,
      "metadata": {
        "id": "5-dUrpFUtKsc"
      },
      "outputs": [],
      "source": [
        "from google.colab import drive\n",
        "drive.mount('/content/drive')"
      ],
      "id": "5-dUrpFUtKsc"
    },
    {
      "cell_type": "code",
      "execution_count": null,
      "metadata": {
        "id": "8a3225de"
      },
      "outputs": [],
      "source": [
        "path='drive/My Drive/satilite fire detection/satillite_data/Training'\n"
      ],
      "id": "8a3225de"
    },
    {
      "cell_type": "code",
      "execution_count": null,
      "metadata": {
        "id": "1408b8bf"
      },
      "outputs": [],
      "source": [
        "batch_siz=32\n",
        "image_height=128\n",
        "img_width=128\n"
      ],
      "id": "1408b8bf"
    },
    {
      "cell_type": "code",
      "execution_count": null,
      "metadata": {
        "id": "49936848"
      },
      "outputs": [],
      "source": [
        "train_ds=tf.keras.preprocessing.image_dataset_from_directory(\n",
        "path,\n",
        "validation_split=0.2,\n",
        "    subset=\"training\",\n",
        "    seed=123,\n",
        "    image_size=(image_height,img_width),\n",
        "    batch_size=batch_siz\n",
        "\n",
        ")"
      ],
      "id": "49936848"
    },
    {
      "cell_type": "code",
      "execution_count": null,
      "metadata": {
        "id": "68a013c7"
      },
      "outputs": [],
      "source": [
        "print(train_ds)\n",
        "print(train_ds.class_names)"
      ],
      "id": "68a013c7"
    },
    {
      "cell_type": "code",
      "execution_count": null,
      "metadata": {
        "id": "a7d17573"
      },
      "outputs": [],
      "source": [
        "val_ds=tf.keras.preprocessing.image_dataset_from_directory(\n",
        "path,\n",
        "validation_split=0.2,\n",
        "    subset=\"validation\",\n",
        "    seed=123,\n",
        "    image_size=(image_height,img_width),\n",
        "    batch_size=batch_siz\n",
        ")"
      ],
      "id": "a7d17573"
    },
    {
      "cell_type": "code",
      "execution_count": null,
      "metadata": {
        "id": "5dc1ee24"
      },
      "outputs": [],
      "source": [
        "AUTOTUNE=tf.data.AUTOTUNE\n",
        "train_ds=train_ds.cache().prefetch(buffer_size=AUTOTUNE)\n",
        "val_ds=val_ds.cache().prefetch(buffer_size=AUTOTUNE\n",
        ")"
      ],
      "id": "5dc1ee24"
    },
    {
      "cell_type": "code",
      "execution_count": null,
      "metadata": {
        "id": "88104d95"
      },
      "outputs": [],
      "source": [
        "num_classes=2\n",
        "model=tf.keras.models.Sequential([\n",
        "\n",
        "                                  tf.keras.layers.InputLayer(input_shape=(image_height,img_width,3)),\n",
        "                                  tf.keras.layers.experimental.preprocessing.Rescaling(1./255),\n",
        "\n",
        "                                  tf.keras.layers.Conv2D(16,3 ,activation='relu'),\n",
        "                                  tf.keras.layers.MaxPooling2D(),\n",
        "\n",
        "                                  tf.keras.layers.Conv2D(32,3,activation='relu'),\n",
        "                                  tf.keras.layers.MaxPooling2D(),\n",
        "\n",
        "                                  tf.keras.layers.Conv2D(64,3,activation='relu'),\n",
        "                                  tf.keras.layers.MaxPooling2D(),\n",
        "\n",
        "\n",
        "                                  tf.keras.layers.Flatten(),\n",
        "                                  tf.keras.layers.Dense(128,activation='relu'),\n",
        "                                  tf.keras.layers.Dropout(0.5),\n",
        "                                  tf.keras.layers.Dense(num_classes,activation='softmax')\n",
        "\n",
        "                                 ])"
      ],
      "id": "88104d95"
    },
    {
      "cell_type": "code",
      "execution_count": null,
      "metadata": {
        "id": "55ba78ad"
      },
      "outputs": [],
      "source": [
        "model.compile(optimizer='adam',\n",
        "             loss='sparse_categorical_crossentropy',\n",
        "             metrics=['accuracy'])\n",
        "\n",
        "early_stop_back=tf.keras.callbacks.EarlyStopping(monitor='val_accuracy',min_delta=0.001,\n",
        "                                               patience=5)\n",
        "\n",
        "history=model.fit(train_ds,validation_data=val_ds,\n",
        "                 epochs=15)\n",
        "\n"
      ],
      "id": "55ba78ad"
    },
    {
      "cell_type": "code",
      "source": [
        "model.save(\"drive/My Drive/satilite fire detection/SatilliteDetector.h5\")"
      ],
      "metadata": {
        "id": "XIBCvPoEncQv"
      },
      "id": "XIBCvPoEncQv",
      "execution_count": null,
      "outputs": []
    },
    {
      "cell_type": "code",
      "execution_count": null,
      "metadata": {
        "id": "81b51eb3"
      },
      "outputs": [],
      "source": [
        "loss,acc=model.evaluate(val_ds,batch_size=batch_siz)\n",
        "print(\"Accuracy\",acc)\n",
        "print(\"loss\",loss)"
      ],
      "id": "81b51eb3"
    },
    {
      "cell_type": "code",
      "execution_count": null,
      "metadata": {
        "id": "5367de1c"
      },
      "outputs": [],
      "source": [
        "def val(x):\n",
        "    global y\n",
        "    y=x+1\n",
        "    return y\n",
        "\n"
      ],
      "id": "5367de1c"
    },
    {
      "cell_type": "code",
      "execution_count": null,
      "metadata": {
        "id": "0e3f9021"
      },
      "outputs": [],
      "source": [
        "\n",
        "def prediction(img):\n",
        "    class_names = ['fire', 'not fire']\n",
        "    my_image = load_img(img, target_size=(image_height, img_width))\n",
        "    my_image = img_to_array(my_image)\n",
        "    my_image = np.expand_dims(my_image, 0)\n",
        "    out=np.round(model.predict(my_image)[0], 2)\n",
        "    fig = plt.figure(figsize=(7, 4))\n",
        "    plt.barh(class_names, out, color='lightgray',edgecolor='red', linewidth=1,height=0.5)\n",
        "    for index, value in enumerate(out):\n",
        "        plt.text(value/2 + 0.1, index, f\"{100*value:.2f}%\", fontweight='bold')\n",
        "        plt.xticks([])\n",
        "        plt.yticks([0, 1], labels=class_names, fontweight='bold',fontsize=14)\n",
        "        fig.savefig('pred_img.png', bbox_inches='tight')\n",
        "    if out[0]>out[1]:\n",
        "        val(1)\n",
        "        print(\"Fire detected\")\n",
        "    elif out[0]<out[1]:\n",
        "        print(\"No fire detected\")\n",
        "    return plt.show()\n"
      ],
      "id": "0e3f9021"
    },
    {
      "cell_type": "code",
      "execution_count": null,
      "metadata": {
        "id": "6d037eeb"
      },
      "outputs": [],
      "source": [
        "testim=\"/content/fire10.jpg\"\n",
        "prediction(testim)"
      ],
      "id": "6d037eeb"
    }
  ],
  "metadata": {
    "colab": {
      "provenance": []
    },
    "kernelspec": {
      "display_name": "Python 3 (ipykernel)",
      "language": "python",
      "name": "python3"
    },
    "language_info": {
      "codemirror_mode": {
        "name": "ipython",
        "version": 3
      },
      "file_extension": ".py",
      "mimetype": "text/x-python",
      "name": "python",
      "nbconvert_exporter": "python",
      "pygments_lexer": "ipython3",
      "version": "3.10.2"
    }
  },
  "nbformat": 4,
  "nbformat_minor": 5
}